{
  "nbformat": 4,
  "nbformat_minor": 0,
  "metadata": {
    "colab": {
      "name": "cartpole.ipynb",
      "provenance": [],
      "collapsed_sections": [],
      "authorship_tag": "ABX9TyOK3hsCUjy2cT6M95uJQoiC",
      "include_colab_link": true
    },
    "kernelspec": {
      "name": "python3",
      "display_name": "Python 3"
    },
    "accelerator": "GPU"
  },
  "cells": [
    {
      "cell_type": "markdown",
      "metadata": {
        "id": "view-in-github",
        "colab_type": "text"
      },
      "source": [
        "<a href=\"https://colab.research.google.com/github/nihal-rao/RL-DQN/blob/master/cartpole.ipynb\" target=\"_parent\"><img src=\"https://colab.research.google.com/assets/colab-badge.svg\" alt=\"Open In Colab\"/></a>"
      ]
    },
    {
      "cell_type": "markdown",
      "metadata": {
        "id": "SDkoHB1IxFer",
        "colab_type": "text"
      },
      "source": [
        "# **Solving Cartpole v0 using Double Q Networks**\n",
        "\n",
        "\n"
      ]
    },
    {
      "cell_type": "markdown",
      "metadata": {
        "id": "fqLYypmpyJMN",
        "colab_type": "text"
      },
      "source": [
        "# Importing packages , using tensorflow 2"
      ]
    },
    {
      "cell_type": "code",
      "metadata": {
        "id": "ch6DV8Z0Fh4y",
        "colab_type": "code",
        "outputId": "5dd5543f-e538-4950-b444-29cb2e16d291",
        "colab": {
          "base_uri": "https://localhost:8080/",
          "height": 34
        }
      },
      "source": [
        "%tensorflow_version 2.x\n",
        "import tensorflow as tf\n",
        "device_name = tf.test.gpu_device_name()\n",
        "if device_name != '/device:GPU:0':\n",
        "  raise SystemError('GPU device not found')\n",
        "print('Found GPU at: {}'.format(device_name))"
      ],
      "execution_count": 0,
      "outputs": [
        {
          "output_type": "stream",
          "text": [
            "Found GPU at: /device:GPU:0\n"
          ],
          "name": "stdout"
        }
      ]
    },
    {
      "cell_type": "code",
      "metadata": {
        "id": "2NgdC9SZF9Q9",
        "colab_type": "code",
        "colab": {}
      },
      "source": [
        "import os\n",
        "import gym\n",
        "import numpy as np\n",
        "import matplotlib.pyplot as plt\n",
        "from gym import wrappers\n",
        "from tensorflow.keras.models import Sequential\n",
        "from tensorflow.keras.layers import Input, Dense\n",
        "from tensorflow.keras.optimizers import Adam \n",
        "from tensorflow.keras.optimizers import RMSprop\n",
        "from tensorflow.keras.utils import to_categorical\n",
        "from tensorflow.keras.callbacks import LearningRateScheduler\n",
        "import math\n",
        "from agent import Agent     #Importing the Agent class from agent.py"
      ],
      "execution_count": 0,
      "outputs": []
    },
    {
      "cell_type": "markdown",
      "metadata": {
        "id": "mY4SpmeT1zLP",
        "colab_type": "text"
      },
      "source": [
        "# Training the Agent"
      ]
    },
    {
      "cell_type": "code",
      "metadata": {
        "id": "XYCABQ4AGU-G",
        "colab_type": "code",
        "outputId": "37f6baf8-4b6b-42d1-c3b4-50404983c884",
        "colab": {
          "base_uri": "https://localhost:8080/",
          "height": 208
        }
      },
      "source": [
        "env = gym.make('CartPole-v0')\t\t\t\t\t\n",
        "num_states = env.observation_space.shape[0]  #no. of state features  \n",
        "num_actions = env.action_space.n \t#dimensionality of action space\n",
        "lr,gamma = 0.001, 0.99\t#learning rate and discount factor\n",
        "agent = Agent(num_states, num_actions, lr, gamma)\n",
        "agent.epsilon = 0.5\t\t#initial probabibility of agent choosing random action \n",
        "agent.tau = 0.1\t\t\t#soft update factor\n",
        "decay_factor = 0.99\t\t#decay factor to reduce epsilon\n",
        "epsilon_min = 0.01\t\t#minimum value of epsilon\n",
        "learning_start = 500\t#minimum number of experiences in replay buffer before training primary model\n",
        "\n",
        "EPISODES = 400\t\t#maximum no. of training episodes\n",
        "scores = np.zeros(EPISODES)\n",
        "for e in range(EPISODES):\n",
        "\tstate = env.reset()\t\t#reset environment for new episode\n",
        "\treward_sum = 0\n",
        "\tdone = False\n",
        "\twhile not done:\n",
        "\t\n",
        "\t\tstate = np.atleast_2d(state) \n",
        "\t\taction = agent.act(state)\t#action taken by the agent\n",
        "\t\tnext_state, reward, done, _ = env.step(action)\t#next state and reward as a result of action taken\n",
        "\t\treward_sum += reward\n",
        "\t\texp = {'s':state[0],'a':action,'r':reward,'s1':next_state,'done':done}\n",
        "\t\tagent.remember(exp)\t\t#adding the experience to the replay buffer\n",
        "\t\tstate = next_state\n",
        "\t\t\n",
        "\t\tif len(agent.memory['r']) > learning_start:\n",
        "\t\t\tagent.replay()                       #train the primary model\n",
        "\t\t\tagent.soft_update_target_network()   #soft update the target model\n",
        "\t\tif done:\n",
        "\t\t\tbreak\n",
        "\t#Learn & print results\n",
        "\tagent.step=e\n",
        "\tscores[e]=reward_sum\t#total reward obtained in an episode, maximum total reward is 200\n",
        "\tagent.epsilon = max(agent.epsilon*decay_factor,epsilon_min)\t\t#reducing epsilon\n",
        "\tif e==0:\n",
        "\t\tmean = scores[e]\n",
        "\tif e>0:\n",
        "\t\tmean = np.mean(scores[np.maximum(0,e-100):e])\t#calculating rolling average\n",
        "\tif e % 20 == 0:\n",
        "\t\tprint('episode {}, score {}, avg_score_last_100 {}'.format(e,reward_sum,mean))\t#displaying info every 20 episodes\n",
        "\tif e>98 and mean > 195:\n",
        "\t\tprint('Cartpole v0 solved after {} steps'.format(e))#cartpole v0 is solved when average reward for last 100 trials is greater than 195 \n",
        "\t\tbreak"
      ],
      "execution_count": 0,
      "outputs": [
        {
          "output_type": "stream",
          "text": [
            "episode 0, score 13.0, avg_score_last_100 13.0\n",
            "episode 20, score 11.0, avg_score_last_100 15.8\n",
            "episode 40, score 12.0, avg_score_last_100 15.75\n",
            "episode 60, score 29.0, avg_score_last_100 16.166666666666668\n",
            "episode 80, score 75.0, avg_score_last_100 23.6125\n",
            "episode 100, score 200.0, avg_score_last_100 49.19\n",
            "episode 120, score 200.0, avg_score_last_100 86.03\n",
            "episode 140, score 200.0, avg_score_last_100 122.89\n",
            "episode 160, score 200.0, avg_score_last_100 159.49\n",
            "episode 180, score 200.0, avg_score_last_100 190.3\n",
            "Cartpole v0 solved after 184 steps\n"
          ],
          "name": "stdout"
        }
      ]
    },
    {
      "cell_type": "markdown",
      "metadata": {
        "id": "uidJtotuIJt6",
        "colab_type": "text"
      },
      "source": [
        "# Plotting rewards v episodes"
      ]
    },
    {
      "cell_type": "code",
      "metadata": {
        "id": "A6AnUxZ7pAID",
        "colab_type": "code",
        "outputId": "cb5e9ee4-6e70-4567-91c0-d66e53ee6f9d",
        "colab": {
          "base_uri": "https://localhost:8080/",
          "height": 296
        }
      },
      "source": [
        "fig,ax = plt.subplots()\n",
        "ax.plot(np.arange(e) , scores[:e])\n",
        "ax.set_xlabel('Episodes')\n",
        "ax.set_ylabel('Rewards')"
      ],
      "execution_count": 0,
      "outputs": [
        {
          "output_type": "execute_result",
          "data": {
            "text/plain": [
              "Text(0, 0.5, 'Rewards')"
            ]
          },
          "metadata": {
            "tags": []
          },
          "execution_count": 13
        },
        {
          "output_type": "display_data",
          "data": {
            "image/png": "[encoded data removed]",
            "text/plain": [
              "<Figure size 432x288 with 1 Axes>"
            ]
          },
          "metadata": {
            "tags": []
          }
        }
      ]
    },
    {
      "cell_type": "code",
      "metadata": {
        "id": "x17_z3SWHL98",
        "colab_type": "code",
        "colab": {}
      },
      "source": [
        "mov_avg=[]\n",
        "for i in range(e):\n",
        "  if i==0:\n",
        "    mean = scores[0]\n",
        "  if i>0:\n",
        "    mean = np.mean(scores[np.maximum(0,i-100):i])\n",
        "  mov_avg.append(mean)"
      ],
      "execution_count": 0,
      "outputs": []
    },
    {
      "cell_type": "markdown",
      "metadata": {
        "id": "CroBA2MvIQmy",
        "colab_type": "text"
      },
      "source": [
        "# Plotting average reward over last 100 episodes  "
      ]
    },
    {
      "cell_type": "code",
      "metadata": {
        "id": "aZqzoGpXPTvr",
        "colab_type": "code",
        "outputId": "fbb3d5a7-c13d-449a-a954-dbf5c9405151",
        "colab": {
          "base_uri": "https://localhost:8080/",
          "height": 298
        }
      },
      "source": [
        "fig,ax = plt.subplots()\n",
        "ax.plot(np.arange(e)[100:e],mov_avg[100:e])\n",
        "ax.set_xlabel('Episodes')\n",
        "ax.set_ylabel('Rolling Avg for last 100 trials')"
      ],
      "execution_count": 0,
      "outputs": [
        {
          "output_type": "execute_result",
          "data": {
            "text/plain": [
              "Text(0, 0.5, 'Rolling Avg for last 100 trials')"
            ]
          },
          "metadata": {
            "tags": []
          },
          "execution_count": 18
        },
        {
          "output_type": "display_data",
          "data": {
            "image/png": "[encoded data removed]",
            "text/plain": [
              "<Figure size 432x288 with 1 Axes>"
            ]
          },
          "metadata": {
            "tags": []
          }
        }
      ]
    },
    {
      "cell_type": "markdown",
      "metadata": {
        "id": "tLQffkkmIfyB",
        "colab_type": "text"
      },
      "source": [
        "# Installing dependencies to create video"
      ]
    },
    {
      "cell_type": "code",
      "metadata": {
        "id": "8-AxnvAVyzQQ",
        "colab_type": "code",
        "cellView": "both",
        "colab": {}
      },
      "source": [
        "#@title\n",
        "#remove \" > /dev/null 2>&1\" to see what is going on under the hood\n",
        "!pip install gym pyvirtualdisplay > /dev/null 2>&1\n",
        "!apt-get install -y xvfb python-opengl ffmpeg > /dev/null 2>&1\n",
        "!apt-get install x11-utils > /dev/null 2>&1"
      ],
      "execution_count": 0,
      "outputs": []
    },
    {
      "cell_type": "code",
      "metadata": {
        "id": "TCelFzWY9MBI",
        "colab_type": "code",
        "cellView": "both",
        "outputId": "6edb59ed-4ee9-4c94-ef27-f766fe25e678",
        "colab": {
          "base_uri": "https://localhost:8080/",
          "height": 34
        }
      },
      "source": [
        "#@title\n",
        "!apt-get update > /dev/null 2>&1\n",
        "!apt-get install cmake > /dev/null 2>&1\n",
        "!pip install --upgrade setuptools 2>&1\n",
        "!pip install ez_setup > /dev/null 2>&1"
      ],
      "execution_count": 0,
      "outputs": [
        {
          "output_type": "stream",
          "text": [
            "Requirement already up-to-date: setuptools in /usr/local/lib/python3.6/dist-packages (45.1.0)\n"
          ],
          "name": "stdout"
        }
      ]
    },
    {
      "cell_type": "code",
      "metadata": {
        "id": "pdb2JwZy4jGj",
        "colab_type": "code",
        "colab": {}
      },
      "source": [
        "from gym import logger as gymlogger\n",
        "from gym.wrappers import Monitor\n",
        "gymlogger.set_level(40) #error only\n",
        "import matplotlib\n",
        "%matplotlib inline\n",
        "import glob\n",
        "import io\n",
        "import base64\n",
        "from IPython.display import HTML\n",
        "from IPython import display as ipythondisplay\n"
      ],
      "execution_count": 0,
      "outputs": []
    },
    {
      "cell_type": "code",
      "metadata": {
        "id": "0Ln8sWf-zI25",
        "colab_type": "code",
        "outputId": "7221d037-12ad-450c-e605-86504c7fe8f8",
        "colab": {
          "base_uri": "https://localhost:8080/",
          "height": 54
        }
      },
      "source": [
        "from pyvirtualdisplay import Display\n",
        "display = Display(visible=0, size=(1400, 900))\n",
        "display.start()"
      ],
      "execution_count": 0,
      "outputs": [
        {
          "output_type": "execute_result",
          "data": {
            "text/plain": [
              "<Display cmd_param=['Xvfb', '-br', '-nolisten', 'tcp', '-screen', '0', '1400x900x24', ':1019'] cmd=['Xvfb', '-br', '-nolisten', 'tcp', '-screen', '0', '1400x900x24', ':1019'] oserror=None return_code=None stdout=\"None\" stderr=\"None\" timeout_happened=False>"
            ]
          },
          "metadata": {
            "tags": []
          },
          "execution_count": 20
        }
      ]
    },
    {
      "cell_type": "code",
      "metadata": {
        "id": "G9UWeToN4r7D",
        "colab_type": "code",
        "colab": {}
      },
      "source": [
        "\"\"\"\n",
        "Utility functions to enable video recording of gym environment and displaying it\n",
        "To enable video, just do \"env = wrap_env(env)\"\"\n",
        "\"\"\"\n",
        "\n",
        "def show_video():\n",
        "  mp4list = glob.glob('video/*.mp4')\n",
        "  if len(mp4list) > 0:\n",
        "    mp4 = mp4list[0]\n",
        "    video = io.open(mp4, 'r+b').read()\n",
        "    encoded = base64.b64encode(video)\n",
        "    ipythondisplay.display(HTML(data='''<video alt=\"test\" autoplay \n",
        "                loop controls style=\"height: 400px;\">\n",
        "                <source src=\"data:video/mp4;base64,{0}\" type=\"video/mp4\" />\n",
        "             </video>'''.format(encoded.decode('ascii'))))\n",
        "  else: \n",
        "    print(\"Could not find video\")\n",
        "    \n",
        "\n",
        "def wrap_env(env):\n",
        "  env = Monitor(env, './video', force=True)\n",
        "  return env"
      ],
      "execution_count": 0,
      "outputs": []
    },
    {
      "cell_type": "markdown",
      "metadata": {
        "id": "p4GnMHcDJdvP",
        "colab_type": "text"
      },
      "source": [
        "# Testing agent and rendering video"
      ]
    },
    {
      "cell_type": "code",
      "metadata": {
        "id": "8nj5sjsk15IT",
        "colab_type": "code",
        "outputId": "89d2693b-23c3-49ea-fbad-6defbd40f5fb",
        "colab": {
          "base_uri": "https://localhost:8080/",
          "height": 439
        }
      },
      "source": [
        "env = wrap_env(gym.make(\"CartPole-v0\"))\n",
        "agent.epsilon=0  #Setting epsilon to zero ie., agent always choose the action which gives maximum Q value.\n",
        "state = env.reset()\n",
        "steps = 0\n",
        "rewards = 0\n",
        "while True:\n",
        "  \n",
        "\tenv.render()\n",
        "\tstate = np.atleast_2d(state) \n",
        "\taction = agent.act(state) #Taking optimal action for the given state\n",
        "\tnext_state, reward, done, _ = env.step(action) #the next state and reward obtained as a result of taking the action\n",
        "\tsteps += 1\n",
        "\trewards += reward \n",
        "\tstate = next_state\t\n",
        "\tif done: \n",
        "\t\tbreak\n",
        "\t\t\t\n",
        "env.close()\n",
        "show_video() #displaying video\n",
        "print(\"Testing steps: {} rewards {}: \".format(steps, rewards))"
      ],
      "execution_count": 0,
      "outputs": [
        {
          "output_type": "display_data",
          "data": {
            "text/html": [
              "<video alt=\"test\" autoplay \n",
              "                loop controls style=\"height: 400px;\">\n",
              "                <source src=\"data:video/mp4;base64,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\" type=\"video/mp4\" />\n",
              "             </video>"
            ],
            "text/plain": [
              "<IPython.core.display.HTML object>"
            ]
          },
          "metadata": {
            "tags": []
          }
        },
        {
          "output_type": "stream",
          "text": [
            "Testing steps: 200 rewards 200.0: \n"
          ],
          "name": "stdout"
        }
      ]
    }
  ]
}